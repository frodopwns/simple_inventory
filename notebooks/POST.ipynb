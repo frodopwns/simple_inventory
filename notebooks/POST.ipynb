{
 "metadata": {
  "name": ""
 },
 "nbformat": 3,
 "nbformat_minor": 0,
 "worksheets": [
  {
   "cells": [
    {
     "cell_type": "code",
     "collapsed": false,
     "input": [
      "import requests\n",
      "import json\n",
      "\n",
      "url = \"https://wwhlocal:5000/sites\"\n",
      "\n",
      "payload = {\n",
      "    \"name\":\"site10\",\n",
      "    \"path\":\"site10\",\n",
      "    \"status\":\"pending\",\n",
      "    \"username\": \"ecorson\",\n",
      "    \"mail\": \"erin.corson@colorado.edu\",  \n",
      "}\n",
      "\n",
      "headers = {\"content-type\": \"application/json\"}\n",
      "\n",
      "r = requests.post(url, headers = headers, data = json.dumps(payload), verify=False)\n",
      "\n",
      "print r.text\n",
      "if not r.ok:\n",
      "    print r.reason"
     ],
     "language": "python",
     "metadata": {},
     "outputs": [
      {
       "output_type": "stream",
       "stream": "stdout",
       "text": [
        "{\"_updated\": \"Sun, 03 May 2015 22:34:05 GMT\", \"_status\": \"OK\", \"_id\": \"5546a25d65eca276cdd9bcd1\", \"_links\": {\"self\": {\"href\": \"/sites/5546a25d65eca276cdd9bcd1\", \"title\": \"site\"}}, \"_etag\": \"2d190b9917abc6771b96e02f8d85ea25138862e2\"}\n"
       ]
      },
      {
       "output_type": "stream",
       "stream": "stderr",
       "text": [
        "/usr/local/lib/python2.7/dist-packages/requests/packages/urllib3/connectionpool.py:734: InsecureRequestWarning: Unverified HTTPS request is being made. Adding certificate verification is strongly advised. See: https://urllib3.readthedocs.org/en/latest/security.html\n",
        "  InsecureRequestWarning)\n"
       ]
      }
     ],
     "prompt_number": 11
    },
    {
     "cell_type": "code",
     "collapsed": false,
     "input": [],
     "language": "python",
     "metadata": {},
     "outputs": []
    }
   ],
   "metadata": {}
  }
 ]
}